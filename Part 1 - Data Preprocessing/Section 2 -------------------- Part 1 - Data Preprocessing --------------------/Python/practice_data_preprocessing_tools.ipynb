{
 "cells": [
  {
   "metadata": {},
   "cell_type": "markdown",
   "source": "# Data Preprocessing Tools",
   "id": "ece325d3036c0b65"
  },
  {
   "metadata": {},
   "cell_type": "markdown",
   "source": "## Importing the libraries",
   "id": "fdd872a3ad119c59"
  },
  {
   "metadata": {
    "ExecuteTime": {
     "end_time": "2025-09-27T09:55:52.275916Z",
     "start_time": "2025-09-27T09:55:52.260452Z"
    }
   },
   "cell_type": "code",
   "source": [
    "import numpy as np\n",
    "import matplotlib.pyplot as plt\n",
    "import pandas as pd"
   ],
   "id": "3dcc3feb386849e1",
   "outputs": [],
   "execution_count": 72
  },
  {
   "metadata": {},
   "cell_type": "markdown",
   "source": "## Import the Dataset",
   "id": "b38923dcc37a70db"
  },
  {
   "metadata": {
    "ExecuteTime": {
     "end_time": "2025-09-27T09:55:52.329677Z",
     "start_time": "2025-09-27T09:55:52.289231Z"
    }
   },
   "cell_type": "code",
   "source": [
    "dataset = pd.read_csv('Data.csv')\n",
    "\n",
    "# Independent variables\n",
    "X = dataset.iloc[:, :-1].values\n",
    "\n",
    "# Dependent variables\n",
    "y = dataset.iloc[:, -1].values\n"
   ],
   "id": "f00a806b8e825b43",
   "outputs": [],
   "execution_count": 73
  },
  {
   "metadata": {},
   "cell_type": "markdown",
   "source": "## Taking care of missing data",
   "id": "4adedc7d4f7d0d3c"
  },
  {
   "metadata": {
    "ExecuteTime": {
     "end_time": "2025-09-27T09:55:52.345278Z",
     "start_time": "2025-09-27T09:55:52.331353Z"
    }
   },
   "cell_type": "code",
   "source": [
    "from sklearn.impute import SimpleImputer\n",
    "imputer = SimpleImputer(missing_values=np.nan, strategy='mean')\n",
    "imputer.fit(X[:, 1:3])\n",
    "X[:, 1:3] = imputer.transform(X[:, 1:3])"
   ],
   "id": "2d7f5fb2ababc752",
   "outputs": [],
   "execution_count": 74
  },
  {
   "metadata": {},
   "cell_type": "markdown",
   "source": "",
   "id": "124c6ad81e1ea7e8"
  },
  {
   "metadata": {},
   "cell_type": "markdown",
   "source": "## Encoding Categorical Data",
   "id": "a052018d6bdc6f8d"
  },
  {
   "metadata": {},
   "cell_type": "markdown",
   "source": "### Encoding the Independent Variable",
   "id": "5243ee4b341aa2fc"
  },
  {
   "metadata": {
    "ExecuteTime": {
     "end_time": "2025-09-27T09:55:52.364420Z",
     "start_time": "2025-09-27T09:55:52.346541Z"
    }
   },
   "cell_type": "code",
   "source": [
    "from sklearn.preprocessing import OneHotEncoder\n",
    "from sklearn.compose import ColumnTransformer\n",
    "\n",
    "ct = ColumnTransformer(transformers=[\n",
    "    ('encoder', OneHotEncoder(), [0])\n",
    "], remainder='passthrough')\n",
    "X = np.array(ct.fit_transform(X))"
   ],
   "id": "f30787ad75611cc4",
   "outputs": [],
   "execution_count": 75
  },
  {
   "metadata": {
    "ExecuteTime": {
     "end_time": "2025-09-27T09:55:52.370458Z",
     "start_time": "2025-09-27T09:55:52.365846Z"
    }
   },
   "cell_type": "code",
   "source": [
    "print(X)\n",
    "category_features = dataset.select_dtypes(include=['object']).columns.tolist()"
   ],
   "id": "4fa5fd5de5d48bb1",
   "outputs": [
    {
     "name": "stdout",
     "output_type": "stream",
     "text": [
      "[[1.0 0.0 0.0 44.0 72000.0]\n",
      " [0.0 0.0 1.0 27.0 48000.0]\n",
      " [0.0 1.0 0.0 30.0 54000.0]\n",
      " [0.0 0.0 1.0 38.0 61000.0]\n",
      " [0.0 1.0 0.0 40.0 63777.77777777778]\n",
      " [1.0 0.0 0.0 35.0 58000.0]\n",
      " [0.0 0.0 1.0 38.77777777777778 52000.0]\n",
      " [1.0 0.0 0.0 48.0 79000.0]\n",
      " [0.0 1.0 0.0 50.0 83000.0]\n",
      " [1.0 0.0 0.0 37.0 67000.0]]\n"
     ]
    }
   ],
   "execution_count": 76
  },
  {
   "metadata": {},
   "cell_type": "markdown",
   "source": "### Encoding the dependent variable",
   "id": "5b8e55ed999c083a"
  },
  {
   "metadata": {
    "ExecuteTime": {
     "end_time": "2025-09-27T09:55:52.373450Z",
     "start_time": "2025-09-27T09:55:52.371110Z"
    }
   },
   "cell_type": "code",
   "source": [
    "from sklearn.preprocessing import LabelEncoder\n",
    "le = LabelEncoder()\n",
    "y = le.fit_transform(y)"
   ],
   "id": "1fdae0becd5b31ef",
   "outputs": [],
   "execution_count": 77
  },
  {
   "metadata": {
    "ExecuteTime": {
     "end_time": "2025-09-27T09:55:52.376599Z",
     "start_time": "2025-09-27T09:55:52.374344Z"
    }
   },
   "cell_type": "code",
   "source": [
    "print(y)\n",
    "print(\"Category Mapping:\", le.classes_)"
   ],
   "id": "fd5268035d2752ce",
   "outputs": [
    {
     "name": "stdout",
     "output_type": "stream",
     "text": [
      "[0 1 0 0 1 1 0 1 0 1]\n",
      "Category Mapping: ['No' 'Yes']\n"
     ]
    }
   ],
   "execution_count": 78
  },
  {
   "metadata": {},
   "cell_type": "markdown",
   "source": "## Splitting the dataset into the Training set and Test set",
   "id": "c0262b0826d60f7c"
  },
  {
   "metadata": {
    "ExecuteTime": {
     "end_time": "2025-09-27T09:55:52.386992Z",
     "start_time": "2025-09-27T09:55:52.377238Z"
    }
   },
   "cell_type": "code",
   "source": [
    "from sklearn.model_selection import train_test_split\n",
    "X_train, X_test, y_train, y_test = train_test_split(X, y, test_size=0.2, random_state=1)"
   ],
   "id": "f5ff24c62910ec1c",
   "outputs": [],
   "execution_count": 79
  },
  {
   "metadata": {
    "ExecuteTime": {
     "end_time": "2025-09-27T09:55:52.390616Z",
     "start_time": "2025-09-27T09:55:52.387634Z"
    }
   },
   "cell_type": "code",
   "source": "print(X_train)",
   "id": "1f93c3aa646a6edc",
   "outputs": [
    {
     "name": "stdout",
     "output_type": "stream",
     "text": [
      "[[0.0 0.0 1.0 38.77777777777778 52000.0]\n",
      " [0.0 1.0 0.0 40.0 63777.77777777778]\n",
      " [1.0 0.0 0.0 44.0 72000.0]\n",
      " [0.0 0.0 1.0 38.0 61000.0]\n",
      " [0.0 0.0 1.0 27.0 48000.0]\n",
      " [1.0 0.0 0.0 48.0 79000.0]\n",
      " [0.0 1.0 0.0 50.0 83000.0]\n",
      " [1.0 0.0 0.0 35.0 58000.0]]\n"
     ]
    }
   ],
   "execution_count": 80
  },
  {
   "metadata": {
    "ExecuteTime": {
     "end_time": "2025-09-27T09:55:52.394197Z",
     "start_time": "2025-09-27T09:55:52.391411Z"
    }
   },
   "cell_type": "code",
   "source": "print(X_test)",
   "id": "acccf88cb90380c2",
   "outputs": [
    {
     "name": "stdout",
     "output_type": "stream",
     "text": [
      "[[0.0 1.0 0.0 30.0 54000.0]\n",
      " [1.0 0.0 0.0 37.0 67000.0]]\n"
     ]
    }
   ],
   "execution_count": 81
  },
  {
   "metadata": {
    "ExecuteTime": {
     "end_time": "2025-09-27T09:55:52.398397Z",
     "start_time": "2025-09-27T09:55:52.396041Z"
    }
   },
   "cell_type": "code",
   "source": "print(y_train)",
   "id": "d955cd4c99d59a95",
   "outputs": [
    {
     "name": "stdout",
     "output_type": "stream",
     "text": [
      "[0 1 0 0 1 1 0 1]\n"
     ]
    }
   ],
   "execution_count": 82
  },
  {
   "metadata": {
    "ExecuteTime": {
     "end_time": "2025-09-27T09:55:52.401979Z",
     "start_time": "2025-09-27T09:55:52.399230Z"
    }
   },
   "cell_type": "code",
   "source": "print(y_test)",
   "id": "3cc7623289aa5c2d",
   "outputs": [
    {
     "name": "stdout",
     "output_type": "stream",
     "text": [
      "[0 1]\n"
     ]
    }
   ],
   "execution_count": 83
  },
  {
   "metadata": {},
   "cell_type": "markdown",
   "source": "## Feature Scaling",
   "id": "608ea109cc8baf3c"
  },
  {
   "metadata": {
    "ExecuteTime": {
     "end_time": "2025-09-27T09:55:52.405481Z",
     "start_time": "2025-09-27T09:55:52.403127Z"
    }
   },
   "cell_type": "code",
   "source": [
    "from sklearn.preprocessing import StandardScaler\n",
    "sc = StandardScaler()\n",
    "\n",
    "X_train[:, 3:] = sc.fit_transform(X_train[:, 3:])\n",
    "X_test[:, 3:] = sc.transform(X_test[:, 3:])"
   ],
   "id": "5a8a5a2eeeadd42d",
   "outputs": [],
   "execution_count": 84
  },
  {
   "metadata": {
    "ExecuteTime": {
     "end_time": "2025-09-27T09:55:52.407722Z",
     "start_time": "2025-09-27T09:55:52.406130Z"
    }
   },
   "cell_type": "code",
   "source": "print(X_train)",
   "id": "54fc4b562ecfc870",
   "outputs": [
    {
     "name": "stdout",
     "output_type": "stream",
     "text": [
      "[[0.0 0.0 1.0 -0.19159184384578545 -1.0781259408412425]\n",
      " [0.0 1.0 0.0 -0.014117293757057777 -0.07013167641635372]\n",
      " [1.0 0.0 0.0 0.566708506533324 0.633562432710455]\n",
      " [0.0 0.0 1.0 -0.30453019390224867 -0.30786617274297867]\n",
      " [0.0 0.0 1.0 -1.9018011447007988 -1.420463615551582]\n",
      " [1.0 0.0 0.0 1.1475343068237058 1.232653363453549]\n",
      " [0.0 1.0 0.0 1.4379472069688968 1.5749910381638885]\n",
      " [1.0 0.0 0.0 -0.7401495441200351 -0.5646194287757332]]\n"
     ]
    }
   ],
   "execution_count": 85
  },
  {
   "metadata": {
    "ExecuteTime": {
     "end_time": "2025-09-27T09:55:52.410477Z",
     "start_time": "2025-09-27T09:55:52.408438Z"
    }
   },
   "cell_type": "code",
   "source": "print(X_test)",
   "id": "45b78e9390836c97",
   "outputs": [
    {
     "name": "stdout",
     "output_type": "stream",
     "text": [
      "[[0.0 1.0 0.0 -1.4661817944830124 -0.9069571034860727]\n",
      " [1.0 0.0 0.0 -0.44973664397484414 0.2056403393225306]]\n"
     ]
    }
   ],
   "execution_count": 86
  }
 ],
 "metadata": {
  "kernelspec": {
   "display_name": "Python 3",
   "language": "python",
   "name": "python3"
  },
  "language_info": {
   "codemirror_mode": {
    "name": "ipython",
    "version": 2
   },
   "file_extension": ".py",
   "mimetype": "text/x-python",
   "name": "python",
   "nbconvert_exporter": "python",
   "pygments_lexer": "ipython2",
   "version": "2.7.6"
  }
 },
 "nbformat": 4,
 "nbformat_minor": 5
}
